{
  "nbformat": 4,
  "nbformat_minor": 0,
  "metadata": {
    "colab": {
      "provenance": [],
      "authorship_tag": "ABX9TyMTo2UyU0dogm1tLeQ8bxv9",
      "include_colab_link": true
    },
    "kernelspec": {
      "name": "python3",
      "display_name": "Python 3"
    },
    "language_info": {
      "name": "python"
    }
  },
  "cells": [
    {
      "cell_type": "markdown",
      "metadata": {
        "id": "view-in-github",
        "colab_type": "text"
      },
      "source": [
        "<a href=\"https://colab.research.google.com/github/anantrp/ai-experiments/blob/main/openai_function_calling_stock_prices_demo.ipynb\" target=\"_parent\"><img src=\"https://colab.research.google.com/assets/colab-badge.svg\" alt=\"Open In Colab\"/></a>"
      ]
    },
    {
      "cell_type": "code",
      "execution_count": 102,
      "metadata": {
        "colab": {
          "base_uri": "https://localhost:8080/"
        },
        "id": "uNbDUX6jpjyc",
        "outputId": "a7d567b6-e930-47ed-c253-4d5cf07d9e17"
      },
      "outputs": [
        {
          "output_type": "stream",
          "name": "stdout",
          "text": [
            "Looking in indexes: https://pypi.org/simple, https://us-python.pkg.dev/colab-wheels/public/simple/\n",
            "Requirement already satisfied: openai in /usr/local/lib/python3.10/dist-packages (0.27.8)\n",
            "Requirement already satisfied: requests>=2.20 in /usr/local/lib/python3.10/dist-packages (from openai) (2.27.1)\n",
            "Requirement already satisfied: tqdm in /usr/local/lib/python3.10/dist-packages (from openai) (4.65.0)\n",
            "Requirement already satisfied: aiohttp in /usr/local/lib/python3.10/dist-packages (from openai) (3.8.4)\n",
            "Requirement already satisfied: urllib3<1.27,>=1.21.1 in /usr/local/lib/python3.10/dist-packages (from requests>=2.20->openai) (1.26.15)\n",
            "Requirement already satisfied: certifi>=2017.4.17 in /usr/local/lib/python3.10/dist-packages (from requests>=2.20->openai) (2022.12.7)\n",
            "Requirement already satisfied: charset-normalizer~=2.0.0 in /usr/local/lib/python3.10/dist-packages (from requests>=2.20->openai) (2.0.12)\n",
            "Requirement already satisfied: idna<4,>=2.5 in /usr/local/lib/python3.10/dist-packages (from requests>=2.20->openai) (3.4)\n",
            "Requirement already satisfied: attrs>=17.3.0 in /usr/local/lib/python3.10/dist-packages (from aiohttp->openai) (23.1.0)\n",
            "Requirement already satisfied: multidict<7.0,>=4.5 in /usr/local/lib/python3.10/dist-packages (from aiohttp->openai) (6.0.4)\n",
            "Requirement already satisfied: async-timeout<5.0,>=4.0.0a3 in /usr/local/lib/python3.10/dist-packages (from aiohttp->openai) (4.0.2)\n",
            "Requirement already satisfied: yarl<2.0,>=1.0 in /usr/local/lib/python3.10/dist-packages (from aiohttp->openai) (1.9.2)\n",
            "Requirement already satisfied: frozenlist>=1.1.1 in /usr/local/lib/python3.10/dist-packages (from aiohttp->openai) (1.3.3)\n",
            "Requirement already satisfied: aiosignal>=1.1.2 in /usr/local/lib/python3.10/dist-packages (from aiohttp->openai) (1.3.1)\n",
            "Looking in indexes: https://pypi.org/simple, https://us-python.pkg.dev/colab-wheels/public/simple/\n",
            "Requirement already satisfied: requests in /usr/local/lib/python3.10/dist-packages (2.27.1)\n",
            "Requirement already satisfied: urllib3<1.27,>=1.21.1 in /usr/local/lib/python3.10/dist-packages (from requests) (1.26.15)\n",
            "Requirement already satisfied: certifi>=2017.4.17 in /usr/local/lib/python3.10/dist-packages (from requests) (2022.12.7)\n",
            "Requirement already satisfied: charset-normalizer~=2.0.0 in /usr/local/lib/python3.10/dist-packages (from requests) (2.0.12)\n",
            "Requirement already satisfied: idna<4,>=2.5 in /usr/local/lib/python3.10/dist-packages (from requests) (3.4)\n"
          ]
        }
      ],
      "source": [
        "!pip install openai\n",
        "!pip install requests"
      ]
    },
    {
      "cell_type": "code",
      "source": [
        "global OPENAI_API_KEY\n",
        "global POLYGON_API_KEY\n",
        "\n",
        "OPENAI_API_KEY=\"\"\n",
        "POLYGON_API_KEY=\"\"\n",
        "\n",
        "openai.api_key = OPENAI_API_KEY"
      ],
      "metadata": {
        "id": "XfQgDmYj0opr"
      },
      "execution_count": 103,
      "outputs": []
    },
    {
      "cell_type": "code",
      "source": [
        "import datetime\n",
        "import requests\n",
        "import json\n",
        "import openai\n",
        "\n",
        "global today_str\n",
        "\n",
        "today = datetime.date.today()\n",
        "today_str = today.strftime('%Y-%m-%d')\n",
        "\n",
        "def get_stock_price_by_dates(ticker_symbol, date):\n",
        "    url = f\"https://api.polygon.io/v1/open-close/{ticker_symbol}/{date}?adjusted=true&apiKey={POLYGON_API_KEY}\"\n",
        "    try:\n",
        "        response = requests.request(method='GET', url=url)\n",
        "        response.raise_for_status()\n",
        "        # print(response.text)\n",
        "        return json.dumps(response.text)\n",
        "    except Exception as e:\n",
        "        print(f\"An error occurred: {e}\")\n",
        "        return None\n",
        "\n",
        "def get_stock_sec_details(ticker_symbol, date = today_str):\n",
        "    url = f\"https://api.polygon.io/v3/reference/tickers/{ticker_symbol}?date={date}&apiKey={POLYGON_API_KEY}\"\n",
        "    try:\n",
        "        response = requests.request(method='GET', url=url)\n",
        "        response.raise_for_status()\n",
        "        # print(response.text)\n",
        "        return json.dumps(response.text)\n",
        "    except Exception as e:\n",
        "        print(f\"An error occurred: {e}\")\n",
        "        return None"
      ],
      "metadata": {
        "id": "GngKDKwK1uJj"
      },
      "execution_count": 154,
      "outputs": []
    },
    {
      "cell_type": "code",
      "source": [
        "print(get_stock_price_by_dates(ticker_symbol=\"GOOGL\", date=\"2023-06-15\"))"
      ],
      "metadata": {
        "colab": {
          "base_uri": "https://localhost:8080/"
        },
        "id": "SyP38jd7KIPK",
        "outputId": "b60bdcd4-707c-44de-feff-450216727a77"
      },
      "execution_count": 145,
      "outputs": [
        {
          "output_type": "stream",
          "name": "stdout",
          "text": [
            "\"{\\\"status\\\":\\\"OK\\\",\\\"from\\\":\\\"2023-06-15\\\",\\\"symbol\\\":\\\"GOOGL\\\",\\\"open\\\":123.14,\\\"high\\\":125.46,\\\"low\\\":122.4,\\\"close\\\":125.09,\\\"volume\\\":3.5146268e+07,\\\"afterHours\\\":124.85,\\\"preMarket\\\":123.48}\"\n"
          ]
        }
      ]
    },
    {
      "cell_type": "code",
      "source": [
        "print(get_stock_sec_details(ticker_symbol=\"AAPL\"))"
      ],
      "metadata": {
        "colab": {
          "base_uri": "https://localhost:8080/"
        },
        "id": "O_O7dYA7O-oB",
        "outputId": "9c3745ba-bb90-4cb6-9080-47377e582ff8"
      },
      "execution_count": 155,
      "outputs": [
        {
          "output_type": "stream",
          "name": "stdout",
          "text": [
            "\"{\\\"request_id\\\":\\\"c1f97d28aa630c8c5cb2a37cba71a41f\\\",\\\"results\\\":{\\\"ticker\\\":\\\"AAPL\\\",\\\"name\\\":\\\"Apple Inc.\\\",\\\"market\\\":\\\"stocks\\\",\\\"locale\\\":\\\"us\\\",\\\"primary_exchange\\\":\\\"XNAS\\\",\\\"type\\\":\\\"CS\\\",\\\"active\\\":true,\\\"currency_name\\\":\\\"usd\\\",\\\"cik\\\":\\\"0000320193\\\",\\\"composite_figi\\\":\\\"BBG000B9XRY4\\\",\\\"share_class_figi\\\":\\\"BBG001S5N8V8\\\",\\\"market_cap\\\":2.92569585902e+12,\\\"phone_number\\\":\\\"(408) 996-1010\\\",\\\"address\\\":{\\\"address1\\\":\\\"ONE APPLE PARK WAY\\\",\\\"city\\\":\\\"CUPERTINO\\\",\\\"state\\\":\\\"CA\\\",\\\"postal_code\\\":\\\"95014\\\"},\\\"description\\\":\\\"Apple designs a wide variety of consumer electronic devices, including smartphones (iPhone), tablets (iPad), PCs (Mac), smartwatches (Apple Watch), and AirPods, among others. In addition, Apple offers its customers a variety of services such as Apple Music, iCloud, Apple Care, Apple TV+, Apple Arcade, Apple Fitness, Apple Card, and Apple Pay, among others. Apple's products include internally developed software and semiconductors, and the firm is well known for its integration of hardware, software, semiconductors, and services. Apple's products are distributed online as well as through company-owned stores and third-party retailers.\\\",\\\"sic_code\\\":\\\"3571\\\",\\\"sic_description\\\":\\\"ELECTRONIC COMPUTERS\\\",\\\"ticker_root\\\":\\\"AAPL\\\",\\\"homepage_url\\\":\\\"https://www.apple.com\\\",\\\"total_employees\\\":164000,\\\"list_date\\\":\\\"1980-12-12\\\",\\\"branding\\\":{\\\"logo_url\\\":\\\"https://api.polygon.io/v1/reference/company-branding/d3d3LmFwcGxlLmNvbQ/images/2023-05-01_logo.svg\\\",\\\"icon_url\\\":\\\"https://api.polygon.io/v1/reference/company-branding/d3d3LmFwcGxlLmNvbQ/images/2023-05-01_icon.jpeg\\\"},\\\"share_class_shares_outstanding\\\":15728700000,\\\"weighted_shares_outstanding\\\":15728702000,\\\"round_lot\\\":100},\\\"status\\\":\\\"OK\\\"}\"\n"
          ]
        }
      ]
    },
    {
      "cell_type": "code",
      "source": [
        "def run_conversation(message):\n",
        "    response = openai.ChatCompletion.create(\n",
        "        model=\"gpt-3.5-turbo-0613\",\n",
        "        messages=[{\"role\": \"user\", \"content\": f\"Date today is {today_str}. Provide answer with a date. {message}\"}],\n",
        "        functions=[\n",
        "            {\n",
        "                \"name\": \"get_stock_price_by_dates\",\n",
        "                \"description\": \"Get stock prices by dates\",\n",
        "                \"parameters\": {\n",
        "                    \"type\": \"object\",\n",
        "                    \"properties\": {\n",
        "                        \"ticker_symbol\": {\n",
        "                            \"type\": \"string\",\n",
        "                            \"description\": \"The ticker symbol for the stock listed on NASDAQ exchange\",\n",
        "                        },\n",
        "                        \"date\": {\n",
        "                            \"type\": \"string\",\n",
        "                            \"description\": \"date string in %Y-%m-%d format\"\n",
        "                        }\n",
        "                    },\n",
        "                    \"required\": [\"stock_ticker\", \"date\"],\n",
        "                },\n",
        "            },\n",
        "            {\n",
        "                \"name\": \"get_stock_sec_details\",\n",
        "                \"description\": \"Get SEC filing details by stock ticker symbol\",\n",
        "                \"parameters\": {\n",
        "                    \"type\": \"object\",\n",
        "                    \"properties\": {\n",
        "                        \"ticker_symbol\": {\n",
        "                            \"type\": \"string\",\n",
        "                            \"description\": \"The ticker symbol for the stock listed on NASDAQ exchange\",\n",
        "                        },\n",
        "                        \"date\": {\n",
        "                            \"type\": \"string\",\n",
        "                            \"description\": \"date string in %Y-%m-%d format\"\n",
        "                        }\n",
        "                    },\n",
        "                    \"required\": [\"stock_ticker\"],\n",
        "                },\n",
        "            }\n",
        "        ],\n",
        "        function_call=\"auto\",\n",
        "    )\n",
        "\n",
        "    internal_message = response[\"choices\"][0][\"message\"]\n",
        "    # print(internal_message)\n",
        "\n",
        "    if internal_message.get(\"function_call\"):\n",
        "        function_name = internal_message[\"function_call\"][\"name\"]\n",
        "        function_args = json.loads(internal_message[\"function_call\"][\"arguments\"])\n",
        "        function_response = \"\"\n",
        "\n",
        "        # Printing which function is detected\n",
        "        print(function_name)\n",
        "\n",
        "        if function_name == \"get_stock_price_by_dates\":\n",
        "          function_response = get_stock_price_by_dates(\n",
        "              ticker_symbol=function_args.get(\"ticker_symbol\"),\n",
        "              date=function_args.get(\"date\"),\n",
        "          )\n",
        "\n",
        "        if function_name == \"get_stock_sec_details\":\n",
        "          function_response = get_stock_sec_details(\n",
        "              ticker_symbol=function_args.get(\"ticker_symbol\")\n",
        "          )\n",
        "\n",
        "        # print(function_response)\n",
        "        second_response = openai.ChatCompletion.create(\n",
        "            model=\"gpt-3.5-turbo-0613\",\n",
        "            messages=[\n",
        "                {\"role\": \"user\", \"content\": message},\n",
        "                internal_message,\n",
        "                {\n",
        "                    \"role\": \"function\",\n",
        "                    \"name\": function_name,\n",
        "                    \"content\": function_response,\n",
        "                },\n",
        "            ],\n",
        "        )\n",
        "        return second_response"
      ],
      "metadata": {
        "id": "ZMPjMDrNsWVW"
      },
      "execution_count": 167,
      "outputs": []
    },
    {
      "cell_type": "code",
      "source": [
        "print(run_conversation(\"tell me apple volume 3 days ago\")[\"choices\"][0][\"message\"][\"content\"])"
      ],
      "metadata": {
        "colab": {
          "base_uri": "https://localhost:8080/"
        },
        "id": "kGx6xfJHxwa0",
        "outputId": "637247f0-7488-4814-d344-a58b44ff655d"
      },
      "execution_count": 168,
      "outputs": [
        {
          "output_type": "stream",
          "name": "stdout",
          "text": [
            "get_stock_price_by_dates\n",
            "The volume for Apple (AAPL) three days ago, on June 13, 2023, was approximately 54,867,129 shares.\n"
          ]
        }
      ]
    },
    {
      "cell_type": "code",
      "source": [
        "print(run_conversation(\"how many outstanding google shares are there\")[\"choices\"][0][\"message\"][\"content\"])"
      ],
      "metadata": {
        "colab": {
          "base_uri": "https://localhost:8080/"
        },
        "id": "TKnn0APXRLw4",
        "outputId": "9b7878a0-c309-4eec-fd0a-14c1024df8d0"
      },
      "execution_count": 169,
      "outputs": [
        {
          "output_type": "stream",
          "name": "stdout",
          "text": [
            "get_stock_sec_details\n",
            "As of now, there are approximately 5,874,000,000 outstanding Google shares.\n"
          ]
        }
      ]
    },
    {
      "cell_type": "code",
      "source": [],
      "metadata": {
        "id": "Q5WQGQvbTXkK"
      },
      "execution_count": null,
      "outputs": []
    },
    {
      "cell_type": "code",
      "source": [],
      "metadata": {
        "id": "-29pHUJF-8zQ"
      },
      "execution_count": null,
      "outputs": []
    }
  ]
}