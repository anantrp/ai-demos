{
  "nbformat": 4,
  "nbformat_minor": 0,
  "metadata": {
    "colab": {
      "provenance": [],
      "authorship_tag": "ABX9TyMpyTZRuUaO+aj2P0z0m6PU",
      "include_colab_link": true
    },
    "kernelspec": {
      "name": "python3",
      "display_name": "Python 3"
    },
    "language_info": {
      "name": "python"
    }
  },
  "cells": [
    {
      "cell_type": "markdown",
      "metadata": {
        "id": "view-in-github",
        "colab_type": "text"
      },
      "source": [
        "<a href=\"https://colab.research.google.com/github/anantrp/ai-experiments/blob/main/openai_function_calling_stock_prices_demo.ipynb\" target=\"_parent\"><img src=\"https://colab.research.google.com/assets/colab-badge.svg\" alt=\"Open In Colab\"/></a>"
      ]
    },
    {
      "cell_type": "code",
      "execution_count": 102,
      "metadata": {
        "colab": {
          "base_uri": "https://localhost:8080/"
        },
        "id": "uNbDUX6jpjyc",
        "outputId": "a7d567b6-e930-47ed-c253-4d5cf07d9e17"
      },
      "outputs": [
        {
          "output_type": "stream",
          "name": "stdout",
          "text": [
            "Looking in indexes: https://pypi.org/simple, https://us-python.pkg.dev/colab-wheels/public/simple/\n",
            "Requirement already satisfied: openai in /usr/local/lib/python3.10/dist-packages (0.27.8)\n",
            "Requirement already satisfied: requests>=2.20 in /usr/local/lib/python3.10/dist-packages (from openai) (2.27.1)\n",
            "Requirement already satisfied: tqdm in /usr/local/lib/python3.10/dist-packages (from openai) (4.65.0)\n",
            "Requirement already satisfied: aiohttp in /usr/local/lib/python3.10/dist-packages (from openai) (3.8.4)\n",
            "Requirement already satisfied: urllib3<1.27,>=1.21.1 in /usr/local/lib/python3.10/dist-packages (from requests>=2.20->openai) (1.26.15)\n",
            "Requirement already satisfied: certifi>=2017.4.17 in /usr/local/lib/python3.10/dist-packages (from requests>=2.20->openai) (2022.12.7)\n",
            "Requirement already satisfied: charset-normalizer~=2.0.0 in /usr/local/lib/python3.10/dist-packages (from requests>=2.20->openai) (2.0.12)\n",
            "Requirement already satisfied: idna<4,>=2.5 in /usr/local/lib/python3.10/dist-packages (from requests>=2.20->openai) (3.4)\n",
            "Requirement already satisfied: attrs>=17.3.0 in /usr/local/lib/python3.10/dist-packages (from aiohttp->openai) (23.1.0)\n",
            "Requirement already satisfied: multidict<7.0,>=4.5 in /usr/local/lib/python3.10/dist-packages (from aiohttp->openai) (6.0.4)\n",
            "Requirement already satisfied: async-timeout<5.0,>=4.0.0a3 in /usr/local/lib/python3.10/dist-packages (from aiohttp->openai) (4.0.2)\n",
            "Requirement already satisfied: yarl<2.0,>=1.0 in /usr/local/lib/python3.10/dist-packages (from aiohttp->openai) (1.9.2)\n",
            "Requirement already satisfied: frozenlist>=1.1.1 in /usr/local/lib/python3.10/dist-packages (from aiohttp->openai) (1.3.3)\n",
            "Requirement already satisfied: aiosignal>=1.1.2 in /usr/local/lib/python3.10/dist-packages (from aiohttp->openai) (1.3.1)\n",
            "Looking in indexes: https://pypi.org/simple, https://us-python.pkg.dev/colab-wheels/public/simple/\n",
            "Requirement already satisfied: requests in /usr/local/lib/python3.10/dist-packages (2.27.1)\n",
            "Requirement already satisfied: urllib3<1.27,>=1.21.1 in /usr/local/lib/python3.10/dist-packages (from requests) (1.26.15)\n",
            "Requirement already satisfied: certifi>=2017.4.17 in /usr/local/lib/python3.10/dist-packages (from requests) (2022.12.7)\n",
            "Requirement already satisfied: charset-normalizer~=2.0.0 in /usr/local/lib/python3.10/dist-packages (from requests) (2.0.12)\n",
            "Requirement already satisfied: idna<4,>=2.5 in /usr/local/lib/python3.10/dist-packages (from requests) (3.4)\n"
          ]
        }
      ],
      "source": [
        "!pip install openai\n",
        "!pip install requests"
      ]
    },
    {
      "cell_type": "code",
      "source": [
        "global OPENAI_API_KEY\n",
        "global POLYGON_API_KEY\n",
        "\n",
        "OPENAI_API_KEY=\"\"\n",
        "POLYGON_API_KEY=\"\"\n",
        "\n",
        "openai.api_key = OPENAI_API_KEY"
      ],
      "metadata": {
        "id": "XfQgDmYj0opr"
      },
      "execution_count": 103,
      "outputs": []
    },
    {
      "cell_type": "code",
      "source": [
        "import datetime\n",
        "import requests\n",
        "import json\n",
        "import openai\n",
        "\n",
        "global today_str\n",
        "\n",
        "today = datetime.date.today()\n",
        "today_str = today.strftime('%Y-%m-%d')\n",
        "\n",
        "def get_stock_price_by_dates(ticker_symbol, date):\n",
        "    url = f\"https://api.polygon.io/v1/open-close/{ticker_symbol}/{date}?adjusted=true&apiKey={POLYGON_API_KEY}\"\n",
        "    try:\n",
        "        response = requests.request(method='GET', url=url)\n",
        "        response.raise_for_status()\n",
        "        # print(response.text)\n",
        "        return json.dumps(response.text)\n",
        "    except Exception as e:\n",
        "        print(f\"An error occurred: {e}\")\n",
        "        return None"
      ],
      "metadata": {
        "id": "GngKDKwK1uJj"
      },
      "execution_count": 133,
      "outputs": []
    },
    {
      "cell_type": "code",
      "source": [
        "def run_conversation(message):\n",
        "    response = openai.ChatCompletion.create(\n",
        "        model=\"gpt-3.5-turbo-0613\",\n",
        "        messages=[{\"role\": \"user\", \"content\": f\"Date today is {today_str}. Provide answer with a date. {message}\"}],\n",
        "        functions=[\n",
        "            {\n",
        "                \"name\": \"get_stock_price_by_dates\",\n",
        "                \"description\": \"Get stock prices by dates\",\n",
        "                \"parameters\": {\n",
        "                    \"type\": \"object\",\n",
        "                    \"properties\": {\n",
        "                        \"ticker_symbol\": {\n",
        "                            \"type\": \"string\",\n",
        "                            \"description\": \"The ticker symbol for the stock listed on NASDAQ exchange\",\n",
        "                        },\n",
        "                        \"date\": {\n",
        "                            \"type\": \"string\",\n",
        "                            \"description\": \"date string in %Y-%m-%d format\"\n",
        "                        }\n",
        "                    },\n",
        "                    \"required\": [\"stock_ticker\"],\n",
        "                },\n",
        "            }\n",
        "        ],\n",
        "        function_call=\"auto\",\n",
        "    )\n",
        "\n",
        "    internal_message = response[\"choices\"][0][\"message\"]\n",
        "    # print(internal_message)\n",
        "\n",
        "    if internal_message.get(\"function_call\"):\n",
        "        function_name = internal_message[\"function_call\"][\"name\"]\n",
        "        function_args = json.loads(internal_message[\"function_call\"][\"arguments\"])\n",
        "\n",
        "        function_response = get_stock_price_by_dates(\n",
        "            ticker_symbol=function_args.get(\"ticker_symbol\"),\n",
        "            date=function_args.get(\"date\"),\n",
        "        )\n",
        "\n",
        "        # print(function_response)\n",
        "        second_response = openai.ChatCompletion.create(\n",
        "            model=\"gpt-3.5-turbo-0613\",\n",
        "            messages=[\n",
        "                {\"role\": \"user\", \"content\": message},\n",
        "                internal_message,\n",
        "                {\n",
        "                    \"role\": \"function\",\n",
        "                    \"name\": function_name,\n",
        "                    \"content\": function_response,\n",
        "                },\n",
        "            ],\n",
        "        )\n",
        "        return second_response"
      ],
      "metadata": {
        "id": "ZMPjMDrNsWVW"
      },
      "execution_count": 140,
      "outputs": []
    },
    {
      "cell_type": "code",
      "source": [
        "print(run_conversation(\"tell me apple volume 3 days ago\")[\"choices\"][0][\"message\"][\"content\"])"
      ],
      "metadata": {
        "colab": {
          "base_uri": "https://localhost:8080/"
        },
        "id": "kGx6xfJHxwa0",
        "outputId": "2d7bf1d8-4e9b-4768-dbad-c7ab6bf55ec9"
      },
      "execution_count": 141,
      "outputs": [
        {
          "output_type": "stream",
          "name": "stdout",
          "text": [
            "Apple's volume 3 days ago (on June 13, 2023) was approximately 54,867,129 shares.\n"
          ]
        }
      ]
    },
    {
      "cell_type": "code",
      "source": [],
      "metadata": {
        "id": "-29pHUJF-8zQ"
      },
      "execution_count": null,
      "outputs": []
    }
  ]
}