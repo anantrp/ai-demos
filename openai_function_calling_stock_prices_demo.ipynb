{
  "nbformat": 4,
  "nbformat_minor": 0,
  "metadata": {
    "colab": {
      "provenance": [],
      "authorship_tag": "ABX9TyNwvqD9VtEOmaLRLKBCA3zN",
      "include_colab_link": true
    },
    "kernelspec": {
      "name": "python3",
      "display_name": "Python 3"
    },
    "language_info": {
      "name": "python"
    }
  },
  "cells": [
    {
      "cell_type": "markdown",
      "metadata": {
        "id": "view-in-github",
        "colab_type": "text"
      },
      "source": [
        "<a href=\"https://colab.research.google.com/github/anantrp/ai-experiments/blob/main/openai_function_calling_stock_prices_demo.ipynb\" target=\"_parent\"><img src=\"https://colab.research.google.com/assets/colab-badge.svg\" alt=\"Open In Colab\"/></a>"
      ]
    },
    {
      "cell_type": "code",
      "execution_count": null,
      "metadata": {
        "id": "uNbDUX6jpjyc"
      },
      "outputs": [],
      "source": [
        "!pip install openai\n",
        "!pip install requests"
      ]
    },
    {
      "cell_type": "code",
      "source": [
        "import openai\n",
        "\n",
        "global OPENAI_API_KEY\n",
        "global POLYGON_API_KEY\n",
        "\n",
        "OPENAI_API_KEY=\"\"\n",
        "POLYGON_API_KEY=\"\"\n",
        "\n",
        "openai.api_key = OPENAI_API_KEY"
      ],
      "metadata": {
        "id": "XfQgDmYj0opr"
      },
      "execution_count": 4,
      "outputs": []
    },
    {
      "cell_type": "code",
      "source": [
        "import datetime\n",
        "import requests\n",
        "import json\n",
        "\n",
        "global today_str\n",
        "\n",
        "today = datetime.date.today()\n",
        "today_str = today.strftime('%Y-%m-%d')\n",
        "\n",
        "def get_stock_price_by_date(ticker_symbol, date):\n",
        "    url = f\"https://api.polygon.io/v1/open-close/{ticker_symbol}/{date}?adjusted=true&apiKey={POLYGON_API_KEY}\"\n",
        "    try:\n",
        "        response = requests.request(method='GET', url=url)\n",
        "        response.raise_for_status()\n",
        "        # print(response.text)\n",
        "        return json.dumps(response.text)\n",
        "    except Exception as e:\n",
        "        print(f\"An error occurred: {e}\")\n",
        "        return None\n",
        "\n",
        "def get_stock_sec_details(ticker_symbol, date = today_str):\n",
        "    url = f\"https://api.polygon.io/v3/reference/tickers/{ticker_symbol}?date={date}&apiKey={POLYGON_API_KEY}\"\n",
        "    try:\n",
        "        response = requests.request(method='GET', url=url)\n",
        "        response.raise_for_status()\n",
        "        # print(response.text)\n",
        "        return json.dumps(response.text)\n",
        "    except Exception as e:\n",
        "        print(f\"An error occurred: {e}\")\n",
        "        return None"
      ],
      "metadata": {
        "id": "GngKDKwK1uJj"
      },
      "execution_count": 5,
      "outputs": []
    },
    {
      "cell_type": "code",
      "source": [
        "print(get_stock_price_by_date(ticker_symbol=\"GOOGL\", date=\"2023-06-15\"))"
      ],
      "metadata": {
        "id": "SyP38jd7KIPK"
      },
      "execution_count": null,
      "outputs": []
    },
    {
      "cell_type": "code",
      "source": [
        "print(get_stock_sec_details(ticker_symbol=\"AAPL\"))"
      ],
      "metadata": {
        "id": "O_O7dYA7O-oB"
      },
      "execution_count": null,
      "outputs": []
    },
    {
      "cell_type": "code",
      "source": [
        "def run_conversation(message):\n",
        "    response = openai.ChatCompletion.create(\n",
        "        model=\"gpt-3.5-turbo-0613\",\n",
        "        messages=[{\"role\": \"user\", \"content\": f\"Date today is {today_str}. Provide answer with a date. {message}\"}],\n",
        "        functions=[\n",
        "            {\n",
        "                \"name\": \"get_stock_price_by_date\",\n",
        "                \"description\": \"Get stock prices by date\",\n",
        "                \"parameters\": {\n",
        "                    \"type\": \"object\",\n",
        "                    \"properties\": {\n",
        "                        \"ticker_symbol\": {\n",
        "                            \"type\": \"string\",\n",
        "                            \"description\": \"The ticker symbol for the stock listed on NASDAQ exchange\",\n",
        "                        },\n",
        "                        \"date\": {\n",
        "                            \"type\": \"string\",\n",
        "                            \"description\": \"date string in %Y-%m-%d format\"\n",
        "                        }\n",
        "                    },\n",
        "                    \"required\": [\"stock_ticker\", \"date\"],\n",
        "                },\n",
        "            },\n",
        "            {\n",
        "                \"name\": \"get_stock_sec_details\",\n",
        "                \"description\": \"Get SEC filing details by stock ticker symbol\",\n",
        "                \"parameters\": {\n",
        "                    \"type\": \"object\",\n",
        "                    \"properties\": {\n",
        "                        \"ticker_symbol\": {\n",
        "                            \"type\": \"string\",\n",
        "                            \"description\": \"The ticker symbol for the stock listed on NASDAQ exchange\",\n",
        "                        },\n",
        "                        \"date\": {\n",
        "                            \"type\": \"string\",\n",
        "                            \"description\": \"date string in %Y-%m-%d format\"\n",
        "                        }\n",
        "                    },\n",
        "                    \"required\": [\"stock_ticker\"],\n",
        "                },\n",
        "            }\n",
        "        ],\n",
        "        function_call=\"auto\",\n",
        "    )\n",
        "\n",
        "    internal_message = response[\"choices\"][0][\"message\"]\n",
        "    # print(internal_message)\n",
        "\n",
        "    if internal_message.get(\"function_call\"):\n",
        "        function_name = internal_message[\"function_call\"][\"name\"]\n",
        "        function_args = json.loads(internal_message[\"function_call\"][\"arguments\"])\n",
        "        function_response = \"\"\n",
        "\n",
        "        # Printing which function is detected\n",
        "        print(function_name)\n",
        "\n",
        "        if function_name == \"get_stock_price_by_date\":\n",
        "          function_response = get_stock_price_by_date(\n",
        "              ticker_symbol=function_args.get(\"ticker_symbol\"),\n",
        "              date=function_args.get(\"date\"),\n",
        "          )\n",
        "\n",
        "        if function_name == \"get_stock_sec_details\":\n",
        "          function_response = get_stock_sec_details(\n",
        "              ticker_symbol=function_args.get(\"ticker_symbol\")\n",
        "          )\n",
        "\n",
        "        # print(function_response)\n",
        "        second_response = openai.ChatCompletion.create(\n",
        "            model=\"gpt-3.5-turbo-0613\",\n",
        "            messages=[\n",
        "                {\"role\": \"user\", \"content\": message},\n",
        "                internal_message,\n",
        "                {\n",
        "                    \"role\": \"function\",\n",
        "                    \"name\": function_name,\n",
        "                    \"content\": function_response,\n",
        "                },\n",
        "            ],\n",
        "        )\n",
        "        return second_response"
      ],
      "metadata": {
        "id": "ZMPjMDrNsWVW"
      },
      "execution_count": 9,
      "outputs": []
    },
    {
      "cell_type": "code",
      "source": [
        "print(run_conversation(\"tell me apple volume 3 days ago\")[\"choices\"][0][\"message\"][\"content\"])"
      ],
      "metadata": {
        "id": "kGx6xfJHxwa0"
      },
      "execution_count": null,
      "outputs": []
    },
    {
      "cell_type": "code",
      "source": [
        "print(run_conversation(\"how many outstanding google shares are there\")[\"choices\"][0][\"message\"][\"content\"])"
      ],
      "metadata": {
        "id": "TKnn0APXRLw4"
      },
      "execution_count": null,
      "outputs": []
    }
  ]
}