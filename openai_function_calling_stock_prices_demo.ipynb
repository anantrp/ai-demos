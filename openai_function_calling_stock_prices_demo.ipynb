{
  "nbformat": 4,
  "nbformat_minor": 0,
  "metadata": {
    "colab": {
      "provenance": [],
      "authorship_tag": "ABX9TyMGKXa4CRTR8o8sqAgHEPws",
      "include_colab_link": true
    },
    "kernelspec": {
      "name": "python3",
      "display_name": "Python 3"
    },
    "language_info": {
      "name": "python"
    }
  },
  "cells": [
    {
      "cell_type": "markdown",
      "metadata": {
        "id": "view-in-github",
        "colab_type": "text"
      },
      "source": [
        "<a href=\"https://colab.research.google.com/github/anantrp/ai-experiments/blob/main/openai_function_calling_stock_prices_demo.ipynb\" target=\"_parent\"><img src=\"https://colab.research.google.com/assets/colab-badge.svg\" alt=\"Open In Colab\"/></a>"
      ]
    },
    {
      "cell_type": "code",
      "execution_count": 173,
      "metadata": {
        "colab": {
          "base_uri": "https://localhost:8080/"
        },
        "id": "uNbDUX6jpjyc",
        "outputId": "b180a0d3-01d9-4e7d-99e4-16b517c01967"
      },
      "outputs": [
        {
          "output_type": "stream",
          "name": "stdout",
          "text": [
            "Looking in indexes: https://pypi.org/simple, https://us-python.pkg.dev/colab-wheels/public/simple/\n",
            "Requirement already satisfied: openai in /usr/local/lib/python3.10/dist-packages (0.27.8)\n",
            "Requirement already satisfied: requests>=2.20 in /usr/local/lib/python3.10/dist-packages (from openai) (2.27.1)\n",
            "Requirement already satisfied: tqdm in /usr/local/lib/python3.10/dist-packages (from openai) (4.65.0)\n",
            "Requirement already satisfied: aiohttp in /usr/local/lib/python3.10/dist-packages (from openai) (3.8.4)\n",
            "Requirement already satisfied: urllib3<1.27,>=1.21.1 in /usr/local/lib/python3.10/dist-packages (from requests>=2.20->openai) (1.26.15)\n",
            "Requirement already satisfied: certifi>=2017.4.17 in /usr/local/lib/python3.10/dist-packages (from requests>=2.20->openai) (2022.12.7)\n",
            "Requirement already satisfied: charset-normalizer~=2.0.0 in /usr/local/lib/python3.10/dist-packages (from requests>=2.20->openai) (2.0.12)\n",
            "Requirement already satisfied: idna<4,>=2.5 in /usr/local/lib/python3.10/dist-packages (from requests>=2.20->openai) (3.4)\n",
            "Requirement already satisfied: attrs>=17.3.0 in /usr/local/lib/python3.10/dist-packages (from aiohttp->openai) (23.1.0)\n",
            "Requirement already satisfied: multidict<7.0,>=4.5 in /usr/local/lib/python3.10/dist-packages (from aiohttp->openai) (6.0.4)\n",
            "Requirement already satisfied: async-timeout<5.0,>=4.0.0a3 in /usr/local/lib/python3.10/dist-packages (from aiohttp->openai) (4.0.2)\n",
            "Requirement already satisfied: yarl<2.0,>=1.0 in /usr/local/lib/python3.10/dist-packages (from aiohttp->openai) (1.9.2)\n",
            "Requirement already satisfied: frozenlist>=1.1.1 in /usr/local/lib/python3.10/dist-packages (from aiohttp->openai) (1.3.3)\n",
            "Requirement already satisfied: aiosignal>=1.1.2 in /usr/local/lib/python3.10/dist-packages (from aiohttp->openai) (1.3.1)\n",
            "Looking in indexes: https://pypi.org/simple, https://us-python.pkg.dev/colab-wheels/public/simple/\n",
            "Requirement already satisfied: requests in /usr/local/lib/python3.10/dist-packages (2.27.1)\n",
            "Requirement already satisfied: urllib3<1.27,>=1.21.1 in /usr/local/lib/python3.10/dist-packages (from requests) (1.26.15)\n",
            "Requirement already satisfied: certifi>=2017.4.17 in /usr/local/lib/python3.10/dist-packages (from requests) (2022.12.7)\n",
            "Requirement already satisfied: charset-normalizer~=2.0.0 in /usr/local/lib/python3.10/dist-packages (from requests) (2.0.12)\n",
            "Requirement already satisfied: idna<4,>=2.5 in /usr/local/lib/python3.10/dist-packages (from requests) (3.4)\n"
          ]
        }
      ],
      "source": [
        "!pip install openai\n",
        "!pip install requests"
      ]
    },
    {
      "cell_type": "code",
      "source": [
        "global OPENAI_API_KEY\n",
        "global POLYGON_API_KEY\n",
        "\n",
        "OPENAI_API_KEY=\"\"\n",
        "POLYGON_API_KEY=\"\"\n",
        "\n",
        "openai.api_key = OPENAI_API_KEY"
      ],
      "metadata": {
        "id": "XfQgDmYj0opr"
      },
      "execution_count": 174,
      "outputs": []
    },
    {
      "cell_type": "code",
      "source": [
        "import datetime\n",
        "import requests\n",
        "import json\n",
        "import openai\n",
        "\n",
        "global today_str\n",
        "\n",
        "today = datetime.date.today()\n",
        "today_str = today.strftime('%Y-%m-%d')\n",
        "\n",
        "def get_stock_price_by_date(ticker_symbol, date):\n",
        "    url = f\"https://api.polygon.io/v1/open-close/{ticker_symbol}/{date}?adjusted=true&apiKey={POLYGON_API_KEY}\"\n",
        "    try:\n",
        "        response = requests.request(method='GET', url=url)\n",
        "        response.raise_for_status()\n",
        "        # print(response.text)\n",
        "        return json.dumps(response.text)\n",
        "    except Exception as e:\n",
        "        print(f\"An error occurred: {e}\")\n",
        "        return None\n",
        "\n",
        "def get_stock_sec_details(ticker_symbol, date = today_str):\n",
        "    url = f\"https://api.polygon.io/v3/reference/tickers/{ticker_symbol}?date={date}&apiKey={POLYGON_API_KEY}\"\n",
        "    try:\n",
        "        response = requests.request(method='GET', url=url)\n",
        "        response.raise_for_status()\n",
        "        # print(response.text)\n",
        "        return json.dumps(response.text)\n",
        "    except Exception as e:\n",
        "        print(f\"An error occurred: {e}\")\n",
        "        return None"
      ],
      "metadata": {
        "id": "GngKDKwK1uJj"
      },
      "execution_count": 176,
      "outputs": []
    },
    {
      "cell_type": "code",
      "source": [
        "print(get_stock_price_by_date(ticker_symbol=\"GOOGL\", date=\"2023-06-15\"))"
      ],
      "metadata": {
        "colab": {
          "base_uri": "https://localhost:8080/"
        },
        "id": "SyP38jd7KIPK",
        "outputId": "75bc2ccc-6ab9-46f4-a031-147f0a83dfdc"
      },
      "execution_count": 177,
      "outputs": [
        {
          "output_type": "stream",
          "name": "stdout",
          "text": [
            "\"{\\\"status\\\":\\\"OK\\\",\\\"from\\\":\\\"2023-06-15\\\",\\\"symbol\\\":\\\"GOOGL\\\",\\\"open\\\":123.14,\\\"high\\\":125.46,\\\"low\\\":122.4,\\\"close\\\":125.09,\\\"volume\\\":3.5146268e+07,\\\"afterHours\\\":124.85,\\\"preMarket\\\":123.48}\"\n"
          ]
        }
      ]
    },
    {
      "cell_type": "code",
      "source": [
        "print(get_stock_sec_details(ticker_symbol=\"AAPL\"))"
      ],
      "metadata": {
        "colab": {
          "base_uri": "https://localhost:8080/"
        },
        "id": "O_O7dYA7O-oB",
        "outputId": "350ed1a4-e3ea-4005-fbf1-bf90d6196e1b"
      },
      "execution_count": 178,
      "outputs": [
        {
          "output_type": "stream",
          "name": "stdout",
          "text": [
            "\"{\\\"request_id\\\":\\\"408ddab7d845ceb0076300b10a2ad28d\\\",\\\"results\\\":{\\\"ticker\\\":\\\"AAPL\\\",\\\"name\\\":\\\"Apple Inc.\\\",\\\"market\\\":\\\"stocks\\\",\\\"locale\\\":\\\"us\\\",\\\"primary_exchange\\\":\\\"XNAS\\\",\\\"type\\\":\\\"CS\\\",\\\"active\\\":true,\\\"currency_name\\\":\\\"usd\\\",\\\"cik\\\":\\\"0000320193\\\",\\\"composite_figi\\\":\\\"BBG000B9XRY4\\\",\\\"share_class_figi\\\":\\\"BBG001S5N8V8\\\",\\\"market_cap\\\":2.92569585902e+12,\\\"phone_number\\\":\\\"(408) 996-1010\\\",\\\"address\\\":{\\\"address1\\\":\\\"ONE APPLE PARK WAY\\\",\\\"city\\\":\\\"CUPERTINO\\\",\\\"state\\\":\\\"CA\\\",\\\"postal_code\\\":\\\"95014\\\"},\\\"description\\\":\\\"Apple designs a wide variety of consumer electronic devices, including smartphones (iPhone), tablets (iPad), PCs (Mac), smartwatches (Apple Watch), and AirPods, among others. In addition, Apple offers its customers a variety of services such as Apple Music, iCloud, Apple Care, Apple TV+, Apple Arcade, Apple Fitness, Apple Card, and Apple Pay, among others. Apple's products include internally developed software and semiconductors, and the firm is well known for its integration of hardware, software, semiconductors, and services. Apple's products are distributed online as well as through company-owned stores and third-party retailers.\\\",\\\"sic_code\\\":\\\"3571\\\",\\\"sic_description\\\":\\\"ELECTRONIC COMPUTERS\\\",\\\"ticker_root\\\":\\\"AAPL\\\",\\\"homepage_url\\\":\\\"https://www.apple.com\\\",\\\"total_employees\\\":164000,\\\"list_date\\\":\\\"1980-12-12\\\",\\\"branding\\\":{\\\"logo_url\\\":\\\"https://api.polygon.io/v1/reference/company-branding/d3d3LmFwcGxlLmNvbQ/images/2023-05-01_logo.svg\\\",\\\"icon_url\\\":\\\"https://api.polygon.io/v1/reference/company-branding/d3d3LmFwcGxlLmNvbQ/images/2023-05-01_icon.jpeg\\\"},\\\"share_class_shares_outstanding\\\":15728700000,\\\"weighted_shares_outstanding\\\":15728702000,\\\"round_lot\\\":100},\\\"status\\\":\\\"OK\\\"}\"\n"
          ]
        }
      ]
    },
    {
      "cell_type": "code",
      "source": [
        "def run_conversation(message):\n",
        "    response = openai.ChatCompletion.create(\n",
        "        model=\"gpt-3.5-turbo-0613\",\n",
        "        messages=[{\"role\": \"user\", \"content\": f\"Date today is {today_str}. Provide answer with a date. {message}\"}],\n",
        "        functions=[\n",
        "            {\n",
        "                \"name\": \"get_stock_price_by_date\",\n",
        "                \"description\": \"Get stock prices by date\",\n",
        "                \"parameters\": {\n",
        "                    \"type\": \"object\",\n",
        "                    \"properties\": {\n",
        "                        \"ticker_symbol\": {\n",
        "                            \"type\": \"string\",\n",
        "                            \"description\": \"The ticker symbol for the stock listed on NASDAQ exchange\",\n",
        "                        },\n",
        "                        \"date\": {\n",
        "                            \"type\": \"string\",\n",
        "                            \"description\": \"date string in %Y-%m-%d format\"\n",
        "                        }\n",
        "                    },\n",
        "                    \"required\": [\"stock_ticker\", \"date\"],\n",
        "                },\n",
        "            },\n",
        "            {\n",
        "                \"name\": \"get_stock_sec_details\",\n",
        "                \"description\": \"Get SEC filing details by stock ticker symbol\",\n",
        "                \"parameters\": {\n",
        "                    \"type\": \"object\",\n",
        "                    \"properties\": {\n",
        "                        \"ticker_symbol\": {\n",
        "                            \"type\": \"string\",\n",
        "                            \"description\": \"The ticker symbol for the stock listed on NASDAQ exchange\",\n",
        "                        },\n",
        "                        \"date\": {\n",
        "                            \"type\": \"string\",\n",
        "                            \"description\": \"date string in %Y-%m-%d format\"\n",
        "                        }\n",
        "                    },\n",
        "                    \"required\": [\"stock_ticker\"],\n",
        "                },\n",
        "            }\n",
        "        ],\n",
        "        function_call=\"auto\",\n",
        "    )\n",
        "\n",
        "    internal_message = response[\"choices\"][0][\"message\"]\n",
        "    # print(internal_message)\n",
        "\n",
        "    if internal_message.get(\"function_call\"):\n",
        "        function_name = internal_message[\"function_call\"][\"name\"]\n",
        "        function_args = json.loads(internal_message[\"function_call\"][\"arguments\"])\n",
        "        function_response = \"\"\n",
        "\n",
        "        # Printing which function is detected\n",
        "        print(function_name)\n",
        "\n",
        "        if function_name == \"get_stock_price_by_date\":\n",
        "          function_response = get_stock_price_by_date(\n",
        "              ticker_symbol=function_args.get(\"ticker_symbol\"),\n",
        "              date=function_args.get(\"date\"),\n",
        "          )\n",
        "\n",
        "        if function_name == \"get_stock_sec_details\":\n",
        "          function_response = get_stock_sec_details(\n",
        "              ticker_symbol=function_args.get(\"ticker_symbol\")\n",
        "          )\n",
        "\n",
        "        # print(function_response)\n",
        "        second_response = openai.ChatCompletion.create(\n",
        "            model=\"gpt-3.5-turbo-0613\",\n",
        "            messages=[\n",
        "                {\"role\": \"user\", \"content\": message},\n",
        "                internal_message,\n",
        "                {\n",
        "                    \"role\": \"function\",\n",
        "                    \"name\": function_name,\n",
        "                    \"content\": function_response,\n",
        "                },\n",
        "            ],\n",
        "        )\n",
        "        return second_response"
      ],
      "metadata": {
        "id": "ZMPjMDrNsWVW"
      },
      "execution_count": 180,
      "outputs": []
    },
    {
      "cell_type": "code",
      "source": [
        "print(run_conversation(\"tell me apple volume 3 days ago\")[\"choices\"][0][\"message\"][\"content\"])"
      ],
      "metadata": {
        "colab": {
          "base_uri": "https://localhost:8080/"
        },
        "id": "kGx6xfJHxwa0",
        "outputId": "3c71513a-97a7-483f-ba8a-a2b5370eca7b"
      },
      "execution_count": 181,
      "outputs": [
        {
          "output_type": "stream",
          "name": "stdout",
          "text": [
            "get_stock_price_by_date\n",
            "The volume of Apple stock 3 days ago, on June 13, 2023, was approximately 54,867,129.\n"
          ]
        }
      ]
    },
    {
      "cell_type": "code",
      "source": [
        "print(run_conversation(\"how many outstanding google shares are there\")[\"choices\"][0][\"message\"][\"content\"])"
      ],
      "metadata": {
        "colab": {
          "base_uri": "https://localhost:8080/"
        },
        "id": "TKnn0APXRLw4",
        "outputId": "6b5e120f-b71a-4b61-8a34-551e8bc86776"
      },
      "execution_count": 182,
      "outputs": [
        {
          "output_type": "stream",
          "name": "stdout",
          "text": [
            "get_stock_sec_details\n",
            "According to the information available, there are 5,941,000,000 outstanding Class A common shares of Alphabet Inc. (GOOGL).\n"
          ]
        }
      ]
    }
  ]
}